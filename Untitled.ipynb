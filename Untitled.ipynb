{
 "cells": [
  {
   "cell_type": "markdown",
   "id": "7b48ae92-e999-464d-a14c-3f28bdd18dec",
   "metadata": {},
   "source": [
    "## Primera classe Python\n",
    "# Aina Colom Vallcaneras\n",
    "\n",
    "We start Python"
   ]
  },
  {
   "cell_type": "markdown",
   "id": "eaacf2e4-491f-4772-8f70-4763eb50683e",
   "metadata": {},
   "source": [
    "1. Realizar un conjunto de expresiones en Python que nos calcule el índice de masa corporal (IMC) de una persona que mide 2 m i pesa 60 Kg. Se calcula dividiendo el peso entre la altura al cuadrado (en cm)."
   ]
  },
  {
   "cell_type": "code",
   "execution_count": 9,
   "id": "cdff17be-4372-47b1-99fb-c0a7871bf795",
   "metadata": {},
   "outputs": [
    {
     "name": "stdout",
     "output_type": "stream",
     "text": [
      "15.0\n"
     ]
    }
   ],
   "source": [
    "Peso = 60\n",
    "Altura = 2\n",
    "IMC = Peso / (Altura)**2\n",
    "print(IMC)"
   ]
  },
  {
   "cell_type": "markdown",
   "id": "14348847-5f19-45eb-9f09-daae5e3f35e1",
   "metadata": {},
   "source": [
    "2.Realizar un conjunto de expresiones en Python para resolver una ecuación de primer grado de la forma ax+b= 0. Los valores de a y b los pondremos directamente en el código y mostrar la solución por pantalla."
   ]
  },
  {
   "cell_type": "code",
   "execution_count": 20,
   "id": "b9020fcc-2a4e-4895-9abf-6216c95e08c9",
   "metadata": {},
   "outputs": [
    {
     "name": "stdout",
     "output_type": "stream",
     "text": [
      "La solución de la ecuación 5x + (-10) = 0 es: x = 2.0\n"
     ]
    }
   ],
   "source": [
    "# Definir los coeficientes a y b\n",
    "a = 5  # Cambia este valor\n",
    "b = -10  # Cambia este valor\n",
    "\n",
    "# Verificar que a no sea 0, ya que la división entre 0 no está definida\n",
    "if a != 0:\n",
    "    # Calcular la solución\n",
    "    x = -b / a\n",
    "    print(f\"La solución de la ecuación {a}x + ({b}) = 0 es: x = {x}\")\n",
    "else:\n",
    "    print(\"El valor de 'a' no puede ser 0 en una ecuación de primer grado.\")\n"
   ]
  },
  {
   "cell_type": "markdown",
   "id": "91498f0c-dc4d-46c1-a947-26b12070abb0",
   "metadata": {},
   "source": [
    "3. Crear una función que recibe un número entero que representa un año y nos devuelve un valor booleano que representa si es un año bisiesto o no. Comprueba la corrección de tu función usándola."
   ]
  },
  {
   "cell_type": "code",
   "execution_count": 2,
   "id": "22c78e6d-70ba-4a41-93ed-57c8bc7f55bf",
   "metadata": {},
   "outputs": [
    {
     "name": "stdout",
     "output_type": "stream",
     "text": [
      "True\n",
      "True\n",
      "False\n",
      "False\n"
     ]
    }
   ],
   "source": [
    "def es_bisiesto(anio): #un año bisiesto es divisible por 4, pero no por cien\n",
    "    #excepto si también es divisible por 400.\n",
    "    if (anio %4 == 0 and anio % 100!=0) or (anio %400 ==0):\n",
    "        return True\n",
    "    return False\n",
    "\n",
    "#Vamos a probar la funcion \n",
    "print(es_bisiesto(2020)) \n",
    "print(es_bisiesto(2024))\n",
    "print(es_bisiesto(2025))\n",
    "print(es_bisiesto(2027))\n"
   ]
  },
  {
   "cell_type": "markdown",
   "id": "af805590-b3e4-4cb1-b058-69a37b1f7f8f",
   "metadata": {},
   "source": [
    "4. Realizar una función que recibe los parámetros (números enteros): a, b y c. resuelve una ecuación de segundo grado y devuelve sus soluciones. Ejemplo, la ecuación: 2x^2 + 20x +3 =0\n",
    " debe dar -0.1523201 ; -9.8476799. Para calcular la raíz cuadrada podéis usar la función sqrt. Comprueba la corrección de tu función usándola."
   ]
  },
  {
   "cell_type": "code",
   "execution_count": 10,
   "id": "09e4d54d-c7cf-4000-9e68-68940c73ecd9",
   "metadata": {},
   "outputs": [
    {
     "name": "stdout",
     "output_type": "stream",
     "text": [
      "Las soluciones son: (-0.15232014258367066, -9.84767985741633)\n"
     ]
    }
   ],
   "source": [
    "import math\n",
    "def resolver_ecuacion_segundo_grado (a, b, c):\n",
    "    #calculamos el discriminante: b^2 - 4ac\n",
    "    discriminante = b**2 - 4*a*c\n",
    "    #si el discriminante es negativo, no tiene solución real\n",
    "    if discriminante < 0 :\n",
    "        return \"no hay soluciones reales\"\n",
    "    else:\n",
    "        solucion1 = (-b + math.sqrt(discriminante)) / (2 * a)\n",
    "        solucion2 = (-b - math.sqrt(discriminante)) / (2 *a)\n",
    "        return solucion1, solucion2\n",
    "\n",
    "#probar la función con los valores del ejemplo \n",
    "a = 2\n",
    "b = 20\n",
    "c = 3\n",
    "\n",
    "soluciones = resolver_ecuacion_segundo_grado (a, b, c)\n",
    "print(f\"Las soluciones son: {soluciones}\")"
   ]
  },
  {
   "cell_type": "markdown",
   "id": "ffa1e701-d815-4534-97d3-96a5154e2c3c",
   "metadata": {},
   "source": [
    "0. Realizar un programa que imprima todos los números del 0 al 6 excepto el 3 y el 6."
   ]
  },
  {
   "cell_type": "code",
   "execution_count": 29,
   "id": "cf0dd031-3140-469a-a48e-12383f0248a7",
   "metadata": {},
   "outputs": [
    {
     "name": "stdout",
     "output_type": "stream",
     "text": [
      "0\n",
      "1\n",
      "2\n",
      "4\n",
      "5\n"
     ]
    }
   ],
   "source": [
    "for sucesion in range(7): # fila de 6 porque se empieza en 0\n",
    "    if sucesion == 3 or sucesion == 6: # si el numero es 3 o 6 lo saltamos\n",
    "        continue\n",
    "    print (sucesion) # print tiene que estar dentro del bucle"
   ]
  },
  {
   "cell_type": "markdown",
   "id": "fcddacf1-a856-41b1-a83b-cddcf8c3c03a",
   "metadata": {},
   "source": [
    "1. Escribir un programa que dado un número, n , imprima todos los divisores de ese número."
   ]
  },
  {
   "cell_type": "code",
   "execution_count": 2,
   "id": "e8dd06c9-99a7-4395-aeff-92022312ee3b",
   "metadata": {},
   "outputs": [
    {
     "name": "stdin",
     "output_type": "stream",
     "text": [
      "introduce un número: 3\n"
     ]
    },
    {
     "name": "stdout",
     "output_type": "stream",
     "text": [
      "los divisores de 3 son:\n",
      "1\n",
      "3\n"
     ]
    }
   ],
   "source": [
    "def imprimir_divisores(n): #cuando pongas definir \"imprimir divisores no olvides poner \n",
    "    #la variable entre paréntesis es decir tiene que ser def xxx(n) y luego defines la función\n",
    "    print(f\"los divisores de {n} son:\") #tienes que poner un márgen ya que esto está dentro de la definición.\n",
    "    #importante se pone print (f\"eee\") y NO print (f(\"iii\"))\n",
    "    for i in range (1, n+1): #es in range y no range in\n",
    "        if n % i == 0: # aqui le decimos que si el número n, dividido con el num rango i\n",
    "            #tiene el residuo diferente a 0 continue.\n",
    "            print(i)\n",
    "n= int(input(\"introduce un número:\"))\n",
    "imprimir_divisores(n)"
   ]
  },
  {
   "cell_type": "markdown",
   "id": "93309558-71d1-4c73-9922-b12428d5a822",
   "metadata": {},
   "source": [
    "2. Escribe una función que recibe tres valores de entrada que corresponden a horas, minutos y segundos. El programa debe indicar si se trata de un reloj con una hora válida."
   ]
  },
  {
   "cell_type": "code",
   "execution_count": 2,
   "id": "f67efc11-cfa8-4f93-aa57-a0e31008bf9d",
   "metadata": {},
   "outputs": [
    {
     "name": "stdin",
     "output_type": "stream",
     "text": [
      "Introduce las horas: 2\n",
      "Introduce los minutos: 30\n",
      "Introduce los segundos: 40\n"
     ]
    },
    {
     "name": "stdout",
     "output_type": "stream",
     "text": [
      "La hora es correcta\n"
     ]
    }
   ],
   "source": [
    "def es_hora_valida(horas, minutos, segundos):\n",
    "    #verificamos si las horas estan entre 0 y 23 (inclusive)\n",
    "    if horas < 0 or horas> 23 :\n",
    "            return False\n",
    "    #verificamos si los minutos estan entre 0 y 59 (inclusive)\n",
    "    if minutos <0 or minutos > 59 :\n",
    "            return False\n",
    "    if segundos < 0 or segundos > 59:\n",
    "            return False\n",
    "   #Si todas las otras condiciones se cumplen, la hora es válida. \n",
    "    return True\n",
    "\n",
    "#Probar la función con ejemplos\n",
    "horas = int(input(\"Introduce las horas:\"))\n",
    "minutos= int(input(\"Introduce los minutos:\"))\n",
    "segundos = int(input(\"Introduce los segundos:\"))\n",
    "\n",
    "if es_hora_valida(horas, minutos, segundos):\n",
    "    print(\"La hora es correcta\")\n",
    "else:\n",
    "    print (\"La hora es incorrecta\")\n",
    "    "
   ]
  },
  {
   "cell_type": "markdown",
   "id": "37c9dc90-ea33-4a14-b62c-88200dbe89c3",
   "metadata": {},
   "source": [
    "4. Escriba un programa para construir el siguiente patrón:\n",
    "1\n",
    "1 1\n",
    "1 1 1\n",
    "1 1 1 1\n",
    "1 1 1 1 1\n",
    "1 1 1 1\n",
    "1 1 1\n",
    "1 1\n",
    "1"
   ]
  },
  {
   "cell_type": "code",
   "execution_count": 5,
   "id": "d793d5c2-7fcd-462f-8534-9d86fe676aa3",
   "metadata": {},
   "outputs": [
    {
     "name": "stdout",
     "output_type": "stream",
     "text": [
      "1\n",
      "11\n",
      "111\n",
      "1111\n",
      "11111\n",
      "1111\n",
      "111\n",
      "11\n",
      "1\n"
     ]
    }
   ],
   "source": [
    "def construir_patron():\n",
    "    #parte superior del patron\n",
    "    for i in range (1,6):\n",
    "        print (\"1\" * i)\n",
    "    #por la parte inferior\n",
    "    for i in range (4,0,-1):\n",
    "        print(\"1\" * i)\n",
    "construir_patron()"
   ]
  },
  {
   "cell_type": "markdown",
   "id": "cd060457-091e-436a-b55f-df9262345048",
   "metadata": {},
   "source": [
    "5. Escribe una función que recibe un número y devuelve True si este es primo y Falseen caso contrario."
   ]
  },
  {
   "cell_type": "code",
   "execution_count": 32,
   "id": "bc27527e-8a4b-4fee-9b4a-6dd397c46fcb",
   "metadata": {},
   "outputs": [
    {
     "name": "stdin",
     "output_type": "stream",
     "text": [
      "Introduce un número:  8\n"
     ]
    },
    {
     "name": "stdout",
     "output_type": "stream",
     "text": [
      "8 no es un número primo.\n"
     ]
    }
   ],
   "source": [
    "def es_primo(numero):\n",
    "    # Los números menores que 2 no son primos\n",
    "    if numero < 2:\n",
    "        return False\n",
    "    # Verificar si el número tiene divisores aparte de 1 y él mismo\n",
    "    for i in range(2, int(numero**0.5) + 1):  # Solo revisa hasta la raíz cuadrada del número\n",
    "        if numero % i == 0:\n",
    "            return False\n",
    "    return True\n",
    "\n",
    "# Probar la función\n",
    "numero = int(input(\"Introduce un número: \"))\n",
    "if es_primo(numero):\n",
    "    print(f\"{numero} es un número primo.\")\n",
    "else:\n",
    "    print(f\"{numero} no es un número primo.\")\n"
   ]
  },
  {
   "cell_type": "markdown",
   "id": "3f2d4a6d-8f68-402e-92bc-acca2c44ebe6",
   "metadata": {},
   "source": [
    "Dada la siguiente lista, realiza las operaciones que siguen y verifica su corrección después de la ejecución mi_lista = [1,2,3,4,5,6,7]\n",
    "1. Cambia el primer valor por 33.\n",
    "2. Muestra su longitud por pantalla.\n",
    "3. Muestra los 3 últimos valores.\n",
    "4. Cambia el valor central por el valor -5.\n",
    "5. Añade la lista [8, 9, 10] a mi lista.\n",
    "6. Elimina el valor 3.\n",
    "7. Verifica que ya no existe el valor 4.\n",
    "8. Inserta el valor 10 después del valor 2."
   ]
  },
  {
   "cell_type": "code",
   "execution_count": 14,
   "id": "3e2ece79-416a-45c5-906f-469cdab13bc0",
   "metadata": {},
   "outputs": [
    {
     "name": "stdout",
     "output_type": "stream",
     "text": [
      "Longitud de la lista: 7\n",
      "Los 3 últimos valores de la lista: [5, 6, 7]\n",
      "Lista después de cambiar el valor central por -5: [33, 2, 3, -5, 5, 6, 7]\n",
      "Lista después de añadir [8, 9, 10]: [33, 2, 3, -5, 5, 6, 7, 8, 9, 10]\n",
      "Lista después de eliminar el valor 3: [33, 2, -5, 5, 6, 7, 8, 9, 10]\n",
      "El valor 4 ya no está en la lista.\n",
      "Lista después de insertar 10 después del valor 2: [33, 2, 10, -5, 5, 6, 7, 8, 9, 10]\n"
     ]
    }
   ],
   "source": [
    "# Lista inicial\n",
    "mi_lista = [1, 2, 3, 4, 5, 6, 7]\n",
    "\n",
    "# 1. Cambia el primer valor por 33\n",
    "mi_lista[0] = 33\n",
    "\n",
    "# 2. Muestra su longitud por pantalla\n",
    "print(\"Longitud de la lista:\", len(mi_lista))\n",
    "\n",
    "# 3. Muestra los 3 últimos valores\n",
    "print(\"Los 3 últimos valores de la lista:\", mi_lista[-3:])\n",
    "\n",
    "# 4. Cambia el valor central por el valor -5\n",
    "indice_central = len(mi_lista) // 2\n",
    "mi_lista[indice_central] = -5\n",
    "print(\"Lista después de cambiar el valor central por -5:\", mi_lista)\n",
    "\n",
    "# 5. Añade la lista [8, 9, 10] a mi_lista\n",
    "mi_lista.extend([8, 9, 10])\n",
    "print(\"Lista después de añadir [8, 9, 10]:\", mi_lista)\n",
    "\n",
    "# 6. Elimina el valor 3\n",
    "if 3 in mi_lista:\n",
    "    mi_lista.remove(3)\n",
    "print(\"Lista después de eliminar el valor 3:\", mi_lista)\n",
    "\n",
    "# 7. Verifica que ya no existe el valor 4\n",
    "if 4 not in mi_lista:\n",
    "    print(\"El valor 4 ya no está en la lista.\")\n",
    "\n",
    "# 8. Inserta el valor 10 después del valor 2\n",
    "indice_valor_2 = mi_lista.index(2) + 1\n",
    "mi_lista.insert(indice_valor_2, 10)\n",
    "print(\"Lista después de insertar 10 después del valor 2:\", mi_lista)\n"
   ]
  },
  {
   "cell_type": "markdown",
   "id": "999d4e18-269f-452f-9001-a89b48ee5247",
   "metadata": {},
   "source": [
    "1.A partir de la lista siguiente a = [1, 1, 2, 3, 5, 8, 13, 21, 34, 55, 89] escribe un programa que imprima todos los elementos de la lista que son menores de 5."
   ]
  },
  {
   "cell_type": "code",
   "execution_count": 15,
   "id": "61bbb383-1fd6-4a42-93ef-dfed459136f0",
   "metadata": {},
   "outputs": [
    {
     "name": "stdout",
     "output_type": "stream",
     "text": [
      "1\n",
      "1\n",
      "2\n",
      "3\n"
     ]
    }
   ],
   "source": [
    "# Lista dada\n",
    "a = [1, 1, 2, 3, 5, 8, 13, 21, 34, 55, 89]\n",
    "\n",
    "# Imprimir los elementos menores de 5\n",
    "for elemento in a:\n",
    "    if elemento < 5:\n",
    "        print(elemento)\n"
   ]
  },
  {
   "cell_type": "markdown",
   "id": "16ed2396-2a64-4fc5-8566-dcc543ea5dc3",
   "metadata": {},
   "source": [
    "2.Escribir un programa que dado un número añada todos los divisores de ese número en una lista y luego la muestre por pantalla."
   ]
  },
  {
   "cell_type": "code",
   "execution_count": 16,
   "id": "2e7ce7e4-1231-4fd1-a727-77aab95fd3cd",
   "metadata": {},
   "outputs": [
    {
     "name": "stdin",
     "output_type": "stream",
     "text": [
      "Introduce un número:  5\n"
     ]
    },
    {
     "name": "stdout",
     "output_type": "stream",
     "text": [
      "Los divisores de 5 son: [1, 5]\n"
     ]
    }
   ],
   "source": [
    "# Función para encontrar divisores de un número\n",
    "def encontrar_divisores(numero):\n",
    "    divisores = []\n",
    "    # Verificamos todos los números desde 1 hasta el número dado\n",
    "    for i in range(1, numero + 1):\n",
    "        if numero % i == 0:  # Si el número es divisible por i, es un divisor\n",
    "            divisores.append(i)\n",
    "    return divisores\n",
    "\n",
    "# Pedir al usuario que introduzca un número\n",
    "numero = int(input(\"Introduce un número: \"))\n",
    "\n",
    "# Encontrar los divisores del número y almacenarlos en una lista\n",
    "lista_divisores = encontrar_divisores(numero)\n",
    "\n",
    "# Mostrar la lista de divisores por pantalla\n",
    "print(f\"Los divisores de {numero} son:\", lista_divisores)\n"
   ]
  },
  {
   "cell_type": "markdown",
   "id": "266bfb8d-445c-4475-a123-393b1bb91185",
   "metadata": {},
   "source": [
    "3.Dadas dos listas, digamos por ejemplo estas dos: a = [1, 1, 2, 3, 5, 8, 13, 21, 34, 55, 89] y b = [1, 2, 3, 4, 5, 6, 7, 8, 9, 10, 11, 12, 13] y escribe una función que devuelva una lista que contenga solo los elementos que son comunes entre las listas (sin duplicados). Las listas no tienen por qué tener el mismo tamaño."
   ]
  },
  {
   "cell_type": "code",
   "execution_count": 17,
   "id": "901339f0-3cc0-4908-b2b3-b71cb3995c8b",
   "metadata": {},
   "outputs": [
    {
     "name": "stdout",
     "output_type": "stream",
     "text": [
      "Los elementos comunes son: [1, 2, 3, 5, 8, 13]\n"
     ]
    }
   ],
   "source": [
    "def elementos_comunes(lista1, lista2):\n",
    "    # Usamos conjuntos (sets) para eliminar duplicados y encontrar los elementos comunes\n",
    "    comunes = list(set(lista1) & set(lista2))  # & es la intersección entre dos sets\n",
    "    return comunes\n",
    "\n",
    "# Listas de ejemplo\n",
    "a = [1, 1, 2, 3, 5, 8, 13, 21, 34, 55, 89]\n",
    "b = [1, 2, 3, 4, 5, 6, 7, 8, 9, 10, 11, 12, 13]\n",
    "\n",
    "# Obtener los elementos comunes\n",
    "resultado = elementos_comunes(a, b)\n",
    "\n",
    "# Mostrar la lista de elementos comunes\n",
    "print(\"Los elementos comunes son:\", resultado)\n"
   ]
  },
  {
   "cell_type": "markdown",
   "id": "45a87600-9091-4941-a075-c0c4bdc582e8",
   "metadata": {},
   "source": [
    "4. Escribir una función para contar el número de strings con longitud 2 o más y el primer y último carácter son los mismos muestras = ['abc', 'xyz', 'aba', '1221'] Resultado esperado: 2"
   ]
  },
  {
   "cell_type": "code",
   "execution_count": 19,
   "id": "48ce4394-fee3-41f3-aa34-56585c67c473",
   "metadata": {},
   "outputs": [
    {
     "name": "stdout",
     "output_type": "stream",
     "text": [
      "Número de cadenas que cumplen la condición: 2\n"
     ]
    }
   ],
   "source": [
    "def contar_cadenas(lista_cadenas):\n",
    "    contador = 0\n",
    "    # Recorrer cada string en la lista\n",
    "    for cadena in lista_cadenas:\n",
    "        # Verificar si la longitud es mayor o igual a 2 y si el primer y último carácter son iguales\n",
    "        if len(cadena) >= 2 and cadena[0] == cadena[-1]:\n",
    "            contador += 1\n",
    "    return contador\n",
    "\n",
    "# Lista de ejemplo\n",
    "muestras = ['abc', 'xyz', 'aba', '1221']\n",
    "\n",
    "# Llamar a la función y mostrar el resultado\n",
    "resultado = contar_cadenas(muestras)\n",
    "print(\"Número de cadenas que cumplen la condición:\", resultado)\n"
   ]
  },
  {
   "cell_type": "markdown",
   "id": "0c1d5d6b-72e0-44f4-938b-d261030a08d0",
   "metadata": {},
   "source": [
    "5. Dada la lista b del ejercicio 3, elimina todos los números impares.  b = [1, 2, 3, 4, 5, 6, 7, 8, 9, 10, 11, 12, 13] "
   ]
  },
  {
   "cell_type": "code",
   "execution_count": 20,
   "id": "683445ec-e79e-47a9-bd0d-76a5e8cd4eed",
   "metadata": {},
   "outputs": [
    {
     "name": "stdout",
     "output_type": "stream",
     "text": [
      "Lista sin los números impares: [2, 4, 6, 8, 10, 12]\n"
     ]
    }
   ],
   "source": [
    "# Lista original\n",
    "b = [1, 2, 3, 4, 5, 6, 7, 8, 9, 10, 11, 12, 13]\n",
    "\n",
    "# Filtrar solo los números pares\n",
    "b_pares = [numero for numero in b if numero % 2 == 0]\n",
    "\n",
    "# Mostrar la nueva lista sin los números impares\n",
    "print(\"Lista sin los números impares:\", b_pares)"
   ]
  },
  {
   "cell_type": "markdown",
   "id": "3fca8050-12bc-44a0-bb72-16db08ebc02e",
   "metadata": {},
   "source": [
    "6. Escribir una función que recibe dos listas por parámetro y devuelva True si tienen al menos un miembro común."
   ]
  },
  {
   "cell_type": "code",
   "execution_count": 22,
   "id": "56994323-e68e-4acf-ad83-d0f0e6db68c2",
   "metadata": {},
   "outputs": [
    {
     "name": "stdout",
     "output_type": "stream",
     "text": [
      "¿Tienen un miembro común? False\n"
     ]
    }
   ],
   "source": [
    "def tienen_miembro_comun(lista1, lista2):\n",
    "    # Recorremos los elementos de la primera lista\n",
    "    for elemento in lista1:\n",
    "        # Si algún elemento de la primera lista está en la segunda lista, devolvemos True\n",
    "        if elemento in lista2:\n",
    "            return True\n",
    "    # Si no se encuentra ningún elemento común, devolvemos False\n",
    "    return False\n",
    "\n",
    "# Ejemplo de uso\n",
    "lista1 = [1, 2, 3, 4]\n",
    "lista2 = [5, 6, 7, 8]\n",
    "\n",
    "# Llamar a la función y mostrar el resultado\n",
    "resultado = tienen_miembro_comun(lista1, lista2)\n",
    "print(\"¿Tienen un miembro común?\", resultado)\n"
   ]
  },
  {
   "cell_type": "markdown",
   "id": "74983bf1-318f-46d1-a335-bad0a62c5d52",
   "metadata": {},
   "source": [
    "1. Eliminar los nombres vacíos de la siguiente lista: nombres = [\"\", \"jose\", \"juana\", \"luis\" , \"encarnacion\", \"\", \"pepa\"] Ayuda: También podemos aplicar la función len a los strings, un string vacío tiene longitud 0.\n"
   ]
  },
  {
   "cell_type": "code",
   "execution_count": 9,
   "id": "f1f9b579-ae9d-445e-bd22-a16e6e19621e",
   "metadata": {},
   "outputs": [
    {
     "name": "stdout",
     "output_type": "stream",
     "text": [
      "Lista sin nombres vacíos: ['jose', 'juana', 'luis', 'encarnacion', 'pepa']\n"
     ]
    }
   ],
   "source": [
    "# Lista original\n",
    "nombres = [\"\", \"jose\", \"juana\", \"luis\", \"encarnacion\", \"\", \"pepa\"]\n",
    "\n",
    "# Filtrar los nombres no vacíos\n",
    "nombres_filtrados = [nombre for nombre in nombres if len(nombre) > 0]\n",
    "\n",
    "# Mostrar la nueva lista sin los nombres vacíos\n",
    "print(\"Lista sin nombres vacíos:\", nombres_filtrados)\n"
   ]
  },
  {
   "cell_type": "markdown",
   "id": "b15fddd2-790b-42ca-b1a5-6f317643e40a",
   "metadata": {},
   "source": [
    "2. A partir de la lista del ejercicio anterior, queremos obtener un diccionario donde las claves son los nombres y los valores son los apellidos. apellidos = [\"stark\", \"targaryen\", \"baratheon\", \"martillo\", \"lannister\"]"
   ]
  },
  {
   "cell_type": "code",
   "execution_count": 25,
   "id": "403ef909-9176-4721-bc19-56f10c8995ea",
   "metadata": {},
   "outputs": [
    {
     "name": "stdout",
     "output_type": "stream",
     "text": [
      "Diccionario de nombres y apellidos: {'jose': 'stark', 'juana': 'targaryen', 'luis': 'baratheon', 'encarnacion': 'martillo', 'pepa': 'lannister'}\n"
     ]
    }
   ],
   "source": [
    "# Lista de nombres filtrados (sin nombres vacíos)\n",
    "nombres = ['jose', 'juana', 'luis', 'encarnacion', 'pepa']\n",
    "\n",
    "# Lista de apellidos\n",
    "apellidos = [\"stark\", \"targaryen\", \"baratheon\", \"martillo\", \"lannister\"]\n",
    "\n",
    "# Crear el diccionario combinando los nombres y apellidos\n",
    "diccionario_nombres_apellidos = dict(zip(nombres, apellidos))\n",
    "\n",
    "# Mostrar el diccionario resultante\n",
    "print(\"Diccionario de nombres y apellidos:\", diccionario_nombres_apellidos)\n"
   ]
  },
  {
   "cell_type": "markdown",
   "id": "f94ba1f0-8f58-4c2a-9b61-9f8d5cf402c4",
   "metadata": {},
   "source": [
    "3. Combinar los siguientes diccionarios en uno solo: diccionario1 = {'a': 1, 'b': 2, 'c': 3} y diccionario2 = {'c': 4, 'd': 5, 'e': 6}."
   ]
  },
  {
   "cell_type": "code",
   "execution_count": 26,
   "id": "78b2dc24-a17d-4ed6-8791-b645721e935c",
   "metadata": {},
   "outputs": [
    {
     "name": "stdout",
     "output_type": "stream",
     "text": [
      "Diccionario combinado: {'a': 1, 'b': 2, 'c': 4, 'd': 5, 'e': 6}\n"
     ]
    }
   ],
   "source": [
    "# Diccionarios originales\n",
    "diccionario1 = {'a': 1, 'b': 2, 'c': 3}\n",
    "diccionario2 = {'c': 4, 'd': 5, 'e': 6}\n",
    "\n",
    "# Combinar los diccionarios\n",
    "diccionario_combinado = diccionario1 | diccionario2\n",
    "\n",
    "# Mostrar el diccionario combinado\n",
    "print(\"Diccionario combinado:\", diccionario_combinado)\n"
   ]
  },
  {
   "cell_type": "markdown",
   "id": "46e1c3e8-faf5-4c5c-84e1-8164a8d27945",
   "metadata": {},
   "source": [
    "4. Encontrar la clave con el valor más alto en el siguiente diccionario: notas = {'Juan': 85, 'María': 92, 'Carlos': 78, 'Sofía': 95, 'Pedro': 88}"
   ]
  },
  {
   "cell_type": "code",
   "execution_count": 27,
   "id": "01441c6e-694e-4c8d-9517-f02f207225ac",
   "metadata": {},
   "outputs": [
    {
     "name": "stdout",
     "output_type": "stream",
     "text": [
      "La persona con la nota más alta es Sofía con una nota de 95.\n"
     ]
    }
   ],
   "source": [
    "# Diccionario de ejemplo\n",
    "notas = {'Juan': 85, 'María': 92, 'Carlos': 78, 'Sofía': 95, 'Pedro': 88}\n",
    "\n",
    "# Encontrar la clave con el valor más alto\n",
    "clave_maxima = max(notas, key=notas.get)\n",
    "\n",
    "# Mostrar el resultado\n",
    "print(f\"La persona con la nota más alta es {clave_maxima} con una nota de {notas[clave_maxima]}.\")\n"
   ]
  },
  {
   "cell_type": "code",
   "execution_count": 19,
   "id": "9810ee06-e75c-4b73-bfe5-607a12ece462",
   "metadata": {},
   "outputs": [
    {
     "name": "stdout",
     "output_type": "stream",
     "text": [
      "['jose', 'juana', 'luis', 'encarnacion', 'pepa']\n"
     ]
    }
   ],
   "source": [
    "#ejercicio 1\n",
    "nombres = [\"\", \"jose\", \"juana\", \"luis\" , \"encarnacion\", \"\", \"pepa\"]\n",
    "nombres1 = [] \n",
    "for nombre in nombres :\n",
    "    if len(nombre) > 0 :\n",
    "        nombres1.append(nombre)\n",
    "print(nombres1)"
   ]
  },
  {
   "cell_type": "markdown",
   "id": "be29ca83-86e2-4b77-bd81-61b428181ee1",
   "metadata": {},
   "source": [
    "Ejercicio 3"
   ]
  },
  {
   "cell_type": "code",
   "execution_count": 21,
   "id": "0cbbb03b-207f-4938-8be4-8852335c9bdf",
   "metadata": {},
   "outputs": [
    {
     "name": "stdout",
     "output_type": "stream",
     "text": [
      "Diccionario combinado: {'a': 1, 'b': 2, 'c': 4, 'd': 5, 'e': 6}\n"
     ]
    }
   ],
   "source": [
    "# Diccionarios originales\n",
    "diccionario1 = {'a': 1, 'b': 2, 'c': 3}\n",
    "diccionario2 = {'c': 4, 'd': 5, 'e': 6}\n",
    "\n",
    "# Crear un nuevo diccionario vacío\n",
    "diccionario_combinado = {}\n",
    "\n",
    "# Agregar los elementos del primer diccionario\n",
    "for clave, valor in diccionario1.items():\n",
    "    diccionario_combinado[clave] = valor\n",
    "\n",
    "# Agregar los elementos del segundo diccionario (sobreescribe las claves repetidas)\n",
    "for clave, valor in diccionario2.items():\n",
    "    diccionario_combinado[clave] = valor\n",
    "\n",
    "# Mostrar el diccionario combinado\n",
    "print(\"Diccionario combinado:\", diccionario_combinado)\n"
   ]
  }
 ],
 "metadata": {
  "kernelspec": {
   "display_name": "Python 3 (ipykernel)",
   "language": "python",
   "name": "python3"
  },
  "language_info": {
   "codemirror_mode": {
    "name": "ipython",
    "version": 3
   },
   "file_extension": ".py",
   "mimetype": "text/x-python",
   "name": "python",
   "nbconvert_exporter": "python",
   "pygments_lexer": "ipython3",
   "version": "3.13.0"
  }
 },
 "nbformat": 4,
 "nbformat_minor": 5
}
