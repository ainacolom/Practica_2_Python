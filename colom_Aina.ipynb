{
 "cells": [
  {
   "cell_type": "markdown",
   "id": "7b48ae92-e999-464d-a14c-3f28bdd18dec",
   "metadata": {},
   "source": [
    "## Primera classe Python\n",
    "# Aina Colom Vallcaneras\n",
    "\n",
    "We start Python"
   ]
  },
  {
   "cell_type": "markdown",
   "id": "eaacf2e4-491f-4772-8f70-4763eb50683e",
   "metadata": {},
   "source": [
    "1. Realizar un conjunto de expresiones en Python que nos calcule el índice de masa corporal (IMC) de una persona que mide 2 m i pesa 60 Kg. Se calcula dividiendo el peso entre la altura al cuadrado (en cm)."
   ]
  },
  {
   "cell_type": "code",
   "execution_count": 9,
   "id": "cdff17be-4372-47b1-99fb-c0a7871bf795",
   "metadata": {},
   "outputs": [
    {
     "name": "stdout",
     "output_type": "stream",
     "text": [
      "15.0\n"
     ]
    }
   ],
   "source": [
    "Peso = 60\n",
    "Altura = 2\n",
    "IMC = Peso / (Altura)**2\n",
    "print(IMC)"
   ]
  },
  {
   "cell_type": "markdown",
   "id": "14348847-5f19-45eb-9f09-daae5e3f35e1",
   "metadata": {},
   "source": [
    "2.Realizar un conjunto de expresiones en Python para resolver una ecuación de primer grado de la forma ax+b= 0. Los valores de a y b los pondremos directamente en el código y mostrar la solución por pantalla."
   ]
  },
  {
   "cell_type": "code",
   "execution_count": 20,
   "id": "b9020fcc-2a4e-4895-9abf-6216c95e08c9",
   "metadata": {},
   "outputs": [
    {
     "name": "stdout",
     "output_type": "stream",
     "text": [
      "La solución de la ecuación 5x + (-10) = 0 es: x = 2.0\n"
     ]
    }
   ],
   "source": [
    "# Definir los coeficientes a y b\n",
    "a = 5  # Cambia este valor\n",
    "b = -10  # Cambia este valor\n",
    "\n",
    "# Verificar que a no sea 0, ya que la división entre 0 no está definida\n",
    "if a != 0:\n",
    "    # Calcular la solución\n",
    "    x = -b / a\n",
    "    print(f\"La solución de la ecuación {a}x + ({b}) = 0 es: x = {x}\")\n",
    "else:\n",
    "    print(\"El valor de 'a' no puede ser 0 en una ecuación de primer grado.\")\n"
   ]
  },
  {
   "cell_type": "markdown",
   "id": "91498f0c-dc4d-46c1-a947-26b12070abb0",
   "metadata": {},
   "source": [
    "0. Realizar un programa que imprima todos los números del 0 al 6 excepto el 3 y el 6."
   ]
  }
 ],
 "metadata": {
  "kernelspec": {
   "display_name": "Python 3 (ipykernel)",
   "language": "python",
   "name": "python3"
  },
  "language_info": {
   "codemirror_mode": {
    "name": "ipython",
    "version": 3
   },
   "file_extension": ".py",
   "mimetype": "text/x-python",
   "name": "python",
   "nbconvert_exporter": "python",
   "pygments_lexer": "ipython3",
   "version": "3.13.0"
  }
 },
 "nbformat": 4,
 "nbformat_minor": 5
}
