{
 "cells": [
  {
   "cell_type": "markdown",
   "id": "03b02561-d0a0-4519-a834-76722a0ea8a7",
   "metadata": {},
   "source": [
    "# Entrega 2: Python\n",
    "\n",
    "**Nom**: Aina Colom Vallcaneras  \n",
    "**Data**: 20 de Octubre, 2024  \n"
   ]
  },
  {
   "cell_type": "markdown",
   "id": "fd131794-c4f3-4974-ae22-6f0bdf289ba4",
   "metadata": {},
   "source": [
    "    1. Realizar una función que recibe 3 números (d, m, a) que representan una fecha (día, mes y año). El programa debe devolver el día (la fecha) siguiente a la recibida por parámetro. Se debe tener en cuenta los dís de cada mes y los años bisiestos."
   ]
  },
  {
   "cell_type": "code",
   "execution_count": 24,
   "id": "bd320934-faba-44e8-a4b9-eafa7b26e5dc",
   "metadata": {},
   "outputs": [
    {
     "data": {
      "text/plain": [
       "(28, 8, 2024)"
      ]
     },
     "execution_count": 24,
     "metadata": {},
     "output_type": "execute_result"
    }
   ],
   "source": [
    "def es_bisiesto(a): \n",
    "    \"\"\"función que determina si un año es bisiesto\"\"\"\n",
    "    return (a % 4 == 0 and a % 100 != 0) or (a % 400 ==0)\n",
    "\n",
    "def fecha_siguiente (d, m, a):\n",
    "    \"\"\"función que calcula la fecha siguiente\"\"\"\n",
    "    dias_del_mes = [31, 28, 31, 30, 31, 30, 31, 31, 30, 31, 30, 31]\n",
    "    if es_bisiesto(a):\n",
    "        dias_del_mes[1] = 29 #por que comenzamos en 0\n",
    "    d += 1\n",
    "    if d > dias_del_mes[m-1]: \n",
    "        d = 1\n",
    "        m += 1\n",
    "    if m > 12:\n",
    "        m=1\n",
    "        a+=1\n",
    "    return d, m, a\n",
    "\n",
    "dia, mes, ano = 27, 8, 2024\n",
    "fecha_siguiente(dia, mes, ano)"
   ]
  },
  {
   "cell_type": "markdown",
   "id": "ca38b45b-af90-4215-ac9b-71f052a6a6e4",
   "metadata": {},
   "source": [
    "2. Dada la siguiente lista:\n",
    "   palabras_espanol = Perro\", \"Gato\", \"Casa\", \"Coche\", \"Árbol\", \"Sol\", \"Luna\", \"Mar\", \"Montaña\", \"Río\",\n",
    "    \"Playa\", \"Libro\", \"Computadora\", \"Teléfono\", \"Amigo\", \"Familia\", \"Trabajo\", \"Comida\",\n",
    "    \"Película\", \"Música\", \"Viaje\", \"Deporte\", \"Juego\", \"Amor\", \"Odio\", \"Felicidad\", \"Tristeza\",\n",
    "    \"Alegría\", \"Dolor\", \"Sueño\", \"Noche\", \"Día\", \"Agua\", \"Fuego\", \"Aire\", \"Tierra\", \"Cielo\",\n",
    "    \"Estrella\", \"Flor\", \"Fruta\", \"Verdura\", \"Chocolate\", \"Café\", \"Té\", \"Vino\", \"Cerveza\",\n",
    "    \"Dinero\", \"Tiempo\", \"Reloj\", \"Reloj\"\n",
    "Construye un programa que muestre por pantalla cuantas veces aparece cada una\n",
    "de ellas."
   ]
  },
  {
   "cell_type": "code",
   "execution_count": 37,
   "id": "8c7977e9-3201-4d96-a3d1-6c5caa9e34a2",
   "metadata": {},
   "outputs": [
    {
     "name": "stdin",
     "output_type": "stream",
     "text": [
      "introduce una palabra para buscar cuántas veces aparece:  Verdura\n"
     ]
    },
    {
     "name": "stdout",
     "output_type": "stream",
     "text": [
      "La palabra ' Verdura ' aprarece 1 vez/veces.\n"
     ]
    }
   ],
   "source": [
    "from collections import Counter\n",
    "\n",
    "palabras_espagnol = [\n",
    "    \"Perro\", \"Gato\", \"Casa\", \"Coche\", \"Árbol\", \"Sol\", \"Luna\", \"Mar\", \"Montaña\", \"Río\",\n",
    "    \"Playa\", \"Libro\", \"Computadora\", \"Teléfono\", \"Amigo\", \"Familia\", \"Trabajo\", \"Comida\",\n",
    "    \"Película\", \"Música\", \"Viaje\", \"Deporte\", \"Juego\", \"Amor\", \"Odio\", \"Felicidad\", \"Tristeza\",\n",
    "    \"Alegría\", \"Dolor\", \"Sueño\", \"Noche\", \"Día\", \"Agua\", \"Fuego\", \"Aire\", \"Tierra\", \"Cielo\",\n",
    "    \"Estrella\", \"Flor\", \"Fruta\", \"Verdura\", \"Chocolate\", \"Café\", \"Té\", \"Vino\", \"Cerveza\",\n",
    "    \"Dinero\", \"Tiempo\", \"Reloj\", \"Reloj\"\n",
    "]\n",
    "contador_palabras = Counter(palabras_espagnol)\n",
    "\n",
    "buscar_palabra = input(\"introduce una palabra para buscar cuántas veces aparece: \")\n",
    "\n",
    "if buscar_palabra in contador_palabras:\n",
    "    print(f\"La palabra ' {buscar_palabra} ' aprarece {contador_palabras[buscar_palabra]} vez/veces.\")\n",
    "else:\n",
    "    print(f\"La palabra '{buscar_palabra}' no se encuentra en la lista.\")\n",
    "    "
   ]
  },
  {
   "cell_type": "markdown",
   "id": "df717962-89b8-4649-a58d-3519583e8ae0",
   "metadata": {},
   "source": [
    "3. Dado el siguiente diccionario con información sobre el precio de diferentes productos por día:\n",
    "precio_origen = \n",
    "    - cebolla: 30.3, 20.3, 25.9, 39.0, \n",
    "    - patata : 0.33, 0.43, 0.34, 0.12,  \n",
    "    - naranja: 0.45, 0.56, 0.38, 0.43  \n",
    "\n",
    "\n",
    "Responde a las siguientes preguntas:\n",
    "\n",
    "3.1. ¿Cuál es el precio máximo de cada producto?\n",
    "\n",
    "3.2. ¿Cuál es el producto más caro?\n",
    "\n",
    "3.3. ¿Qué día son más caras las naranjas?"
   ]
  },
  {
   "cell_type": "code",
   "execution_count": 69,
   "id": "2417b4c5-d2e4-4c2a-a4f9-4c980c4ddebe",
   "metadata": {},
   "outputs": [
    {
     "name": "stdout",
     "output_type": "stream",
     "text": [
      "Precio máximo de cada producto: {'cebolla': 0.39, 'patata': 0.43, 'naranja': 0.56}\n",
      "El producto más caro es: naranja\n",
      "Las naranjas son más caras el segundo día.\n"
     ]
    }
   ],
   "source": [
    "precio_origen = {\n",
    "    \"cebolla\": [30.3, 20.3, 25.9, 39.0],\n",
    "    \"patata\": [0.33, 0.43, 0.34, 0.12],\n",
    "    \"naranja\": [0.45, 0.56, 0.38, 0.43] \n",
    "}\n",
    "\n",
    "precio_origen [\"cebolla\"] = [precio / 100 for precio in precio_origen[\"cebolla\"]]\n",
    "#los precios de las cebollas estan en céntimos\n",
    "\n",
    "dias_en_palabras = {1: \"primero\", 2: \"segundo\", 3: \"tercero\", 4: \"cuarto\"}\n",
    "\n",
    "# 3.1. ¿Cuál es el precio máximo de cada producto?\n",
    "precio_maximo = {producto: max(precios) for producto, precios in precio_origen.items()}\n",
    "print(\"Precio máximo de cada producto:\", precio_maximo)\n",
    "\n",
    "# 3.2. ¿Cuál es el producto más caro?\n",
    "producto_mas_caro = max(precio_maximo, key=precio_maximo.get)\n",
    "print(\"El producto más caro es:\", producto_mas_caro)\n",
    "\n",
    "# 3.3. ¿Qué día son más caras las naranjas?\n",
    "dia_naranja_mas_cara = precio_origen[\"naranja\"].index(max(precio_origen[\"naranja\"])) + 1\n",
    "print(f\"Las naranjas son más caras el {dias_en_palabras[dia_naranja_mas_cara]} día.\")"
   ]
  },
  {
   "cell_type": "markdown",
   "id": "229fd337-1af6-4e43-bfc5-349e5b042ec6",
   "metadata": {},
   "source": [
    "PROBLEMA\n",
    "Una empresa tiene un inventario de productos con diferentes categorías, y cada producto tiene un precio y una cantidad en stock. El objetivo es gestionar el inventario de forma eficiente. \n",
    "\n",
    "Instrucciones:\n",
    "\n",
    "1. Crea un diccionario donde la clave sea el nombre de una categoría de producto y el valor sea una lista de tuplas. Cada tupla contendría el nombre del producto, el precio y la cantidad en stock."
   ]
  },
  {
   "cell_type": "code",
   "execution_count": 138,
   "id": "7bc6dfd3-065a-4c3c-9dcb-462194b78da3",
   "metadata": {},
   "outputs": [
    {
     "name": "stdout",
     "output_type": "stream",
     "text": [
      "Inventario del restaurante basado en el menú:\n",
      "\n",
      "Categoría: Les Entrées\n",
      "  Terrine de cèpes: 28.0€ (Stock: 10 unidades)\n",
      "  Coquilles Saint-Jacques poêlées: 28.0€ (Stock: 8 unidades)\n",
      "  Escalope de foie gras de canard poché: 28.0€ (Stock: 6 unidades)\n",
      "\n",
      "Categoría: Les Plats\n",
      "  Canon de lotte poché et rôti: 35.0€ (Stock: 12 unidades)\n",
      "  Tournedos de ris de veau: 35.0€ (Stock: 10 unidades)\n",
      "  Col vert: 35.0€ (Stock: 5 unidades)\n",
      "\n",
      "Categoría: Les Desserts\n",
      "  Tarte citron Kalamansi: 22.0€ (Stock: 15 unidades)\n",
      "  Sphère chocolat, crémeux caramel: 22.0€ (Stock: 12 unidades)\n",
      "  Figue pochée au vin rouge: 22.0€ (Stock: 10 unidades)\n",
      "  Biscuit camomille: 22.0€ (Stock: 8 unidades)\n",
      "\n",
      "Categoría: Spécialités Stéphane Chambon\n",
      "  Foie de canard Bonne Maman (pour 2): 75.0€ (Stock: 4 unidades)\n",
      "  Pied de porc farci: 54.0€ (Stock: 6 unidades)\n",
      "  Queues de langoustines rôties: 95.0€ (Stock: 3 unidades)\n",
      "  Lièvre à la royale: 72.0€ (Stock: 2 unidades)\n",
      "\n",
      "Categoría: Les Fromages\n",
      "  Cocotte de Rocamadour au mascarpone et noix: 14.0€ (Stock: 10 unidades)\n",
      "  Cocotte de Rocamadour au mascarpone et truffes: 20.0€ (Stock: 8 unidades)\n"
     ]
    }
   ],
   "source": [
    "inventario_restaurante = {\n",
    "    \"Les Entrées\": [\n",
    "        (\"Terrine de cèpes\", 28.00, 10),\n",
    "        (\"Coquilles Saint-Jacques poêlées\", 28.00, 8),\n",
    "        (\"Escalope de foie gras de canard poché\", 28.00, 6)\n",
    "    ],\n",
    "    \"Les Plats\": [\n",
    "        (\"Canon de lotte poché et rôti\", 35.00, 12),\n",
    "        (\"Tournedos de ris de veau\", 35.00, 10),\n",
    "        (\"Col vert\", 35.00, 5)\n",
    "    ],\n",
    "    \"Les Desserts\": [\n",
    "        (\"Tarte citron Kalamansi\", 22.00, 15),\n",
    "        (\"Sphère chocolat, crémeux caramel\", 22.00, 12),\n",
    "        (\"Figue pochée au vin rouge\", 22.00, 10),\n",
    "        (\"Biscuit camomille\", 22.00, 8)\n",
    "    ],\n",
    "    \"Spécialités Stéphane Chambon\": [\n",
    "        (\"Foie de canard Bonne Maman (pour 2)\", 75.00, 4),\n",
    "        (\"Pied de porc farci\", 54.00, 6),\n",
    "        (\"Queues de langoustines rôties\", 95.00, 3),\n",
    "        (\"Lièvre à la royale\", 72.00, 2)\n",
    "    ],\n",
    "    \"Les Fromages\": [\n",
    "        (\"Cocotte de Rocamadour au mascarpone et noix\", 14.00, 10),\n",
    "        (\"Cocotte de Rocamadour au mascarpone et truffes\", 20.00, 8)\n",
    "    ]\n",
    "}\n",
    "\n",
    "print(\"Inventario del restaurante basado en el menú:\")\n",
    "for categoria, productos in inventario_restaurante.items():\n",
    "    print(f\"\\nCategoría: {categoria}\")\n",
    "    for producto, precio, stock in productos:\n",
    "        print(f\"  {producto}: {precio}€ (Stock: {stock} unidades)\")\n"
   ]
  },
  {
   "cell_type": "markdown",
   "id": "d2f79850-5c4d-4ab6-a813-866649e4316d",
   "metadata": {},
   "source": [
    "2. Crea una función que calcule el valor total de inventario por categoría (precio por cantidad para cada producto)."
   ]
  },
  {
   "cell_type": "code",
   "execution_count": 195,
   "id": "2dc39290-b9c5-4780-ab40-b183ae67ae3a",
   "metadata": {},
   "outputs": [
    {
     "name": "stdout",
     "output_type": "stream",
     "text": [
      "Valor total del inventario por categoría:\n",
      "Les Entrées: 672.00€\n",
      "Les Plats: 945.00€\n",
      "Les Desserts: 990.00€\n",
      "Spécialités Stéphane Chambon: 1053.00€\n",
      "Les Fromages: 300.00€\n"
     ]
    }
   ],
   "source": [
    "inventario_restaurante = {\n",
    "    \"Les Entrées\": [\n",
    "        (\"Terrine de cèpes\", 28.00, 10),\n",
    "        (\"Coquilles Saint-Jacques poêlées\", 28.00, 8),\n",
    "        (\"Escalope de foie gras de canard poché\", 28.00, 6)\n",
    "    ],\n",
    "    \"Les Plats\": [\n",
    "        (\"Canon de lotte poché et rôti\", 35.00, 12),\n",
    "        (\"Tournedos de ris de veau\", 35.00, 10),\n",
    "        (\"Col vert\", 35.00, 5)\n",
    "    ],\n",
    "    \"Les Desserts\": [\n",
    "        (\"Tarte citron Kalamansi\", 22.00, 15),\n",
    "        (\"Sphère chocolat, crémeux caramel\", 22.00, 12),\n",
    "        (\"Figue pochée au vin rouge\", 22.00, 10),\n",
    "        (\"Biscuit camomille\", 22.00, 8)\n",
    "    ],\n",
    "    \"Spécialités Stéphane Chambon\": [\n",
    "        (\"Foie de canard Bonne Maman (pour 2)\", 75.00, 4),\n",
    "        (\"Pied de porc farci\", 54.00, 6),\n",
    "        (\"Queues de langoustines rôties\", 95.00, 3),\n",
    "        (\"Lièvre à la royale\", 72.00, 2)\n",
    "    ],\n",
    "    \"Les Fromages\": [\n",
    "        (\"Cocotte de Rocamadour au mascarpone et noix\", 14.00, 10),\n",
    "        (\"Cocotte de Rocamadour au mascarpone et truffes\", 20.00, 8)\n",
    "    ]\n",
    "}\n",
    "\n",
    "def valor_inventario_por_categoria(inventario):\n",
    "    total_por_categoria = {}\n",
    "    \n",
    "    for categoria, productos in inventario.items():\n",
    "        valor_total = sum(precio * cantidad for _, precio, cantidad in productos)\n",
    "        total_por_categoria[categoria] = valor_total\n",
    "    \n",
    "    return total_por_categoria\n",
    "\n",
    "valor_total_inventario = valor_inventario_por_categoria(inventario_restaurante)\n",
    "\n",
    "print(\"Valor total del inventario por categoría:\")\n",
    "for categoria, valor in valor_total_inventario.items():\n",
    "    print(f\"{categoria}: {valor:.2f}€\")\n"
   ]
  },
  {
   "cell_type": "markdown",
   "id": "8b832e2a-046d-411f-88b8-8fc67f058c86",
   "metadata": {},
   "source": [
    "3. Muestra la categoría que tiene el valor total más alto en inventario"
   ]
  },
  {
   "cell_type": "code",
   "execution_count": null,
   "id": "0b58694d-b633-435c-aaf5-02d83027d733",
   "metadata": {},
   "outputs": [],
   "source": [
    "inventario_restaurante = {\n",
    "    \"Les Entrées\": [\n",
    "        (\"Terrine de cèpes\", 28.00, 10),\n",
    "        (\"Coquilles Saint-Jacques poêlées\", 28.00, 8),\n",
    "        (\"Escalope de foie gras de canard poché\", 28.00, 6)\n",
    "    ],\n",
    "    \"Les Plats\": [\n",
    "        (\"Canon de lotte poché et rôti\", 35.00, 12),\n",
    "        (\"Tournedos de ris de veau\", 35.00, 10),\n",
    "        (\"Col vert\", 35.00, 5)\n",
    "    ],\n",
    "    \"Les Desserts\": [\n",
    "        (\"Tarte citron Kalamansi\", 22.00, 15),\n",
    "        (\"Sphère chocolat, crémeux caramel\", 22.00, 12),\n",
    "        (\"Figue pochée au vin rouge\", 22.00, 10),\n",
    "        (\"Biscuit camomille\", 22.00, 8)\n",
    "    ],\n",
    "    \"Spécialités Stéphane Chambon\": [\n",
    "        (\"Foie de canard Bonne Maman (pour 2)\", 75.00, 4),\n",
    "        (\"Pied de porc farci\", 54.00, 6),\n",
    "        (\"Queues de langoustines rôties\", 95.00, 3),\n",
    "        (\"Lièvre à la royale\", 72.00, 2)\n",
    "    ],\n",
    "    \"Les Fromages\": [\n",
    "        (\"Cocotte de Rocamadour au mascarpone et noix\", 14.00, 10),\n",
    "        (\"Cocotte de Rocamadour au mascarpone et truffes\", 20.00, 8)\n",
    "    ]\n",
    "}\n",
    "\n",
    "def calcular_valor_inventario(inventario):\n",
    "    total_por_seccion = {}\n",
    "    \n",
    "    for seccion, productos in inventario.items():\n",
    "        valor_total = sum(precio * cantidad for _, precio, cantidad in productos)\n",
    "        total_por_seccion[seccion] = valor_total\n",
    "    \n",
    "    return total_por_seccion\n",
    "\n",
    "totales_inventario = calcular_valor_inventario(inventario_restaurante)\n",
    "\n",
    "print(\"Valor total del inventario por sección:\")\n",
    "for seccion, valor in totales_inventario.items():\n",
    "    print(f\"{seccion}: {valor:.2f}€\")\n",
    "\n",
    "seccion_maxima_valor = max(totales_inventario, key=totales_inventario.get)\n",
    "valor_mas_alto = totales_inventario[seccion_maxima_valor]\n",
    "\n",
    "print(f\"\\nLa sección con el valor total más alto en inventario es '{seccion_maxima_valor}' con un total de {valor_mas_alto:.2f}€.\")\n",
    "\n",
    "     \n",
    "    "
   ]
  },
  {
   "cell_type": "markdown",
   "id": "8e880caf-e52d-43be-9ff2-e6d157634f35",
   "metadata": {},
   "source": [
    "4. añade una opción para actualizar el stock de un producto en una categoría específica."
   ]
  },
  {
   "cell_type": "code",
   "execution_count": null,
   "id": "0a53491a-d0e1-4cf7-8654-054e589282ad",
   "metadata": {},
   "outputs": [
    {
     "name": "stdin",
     "output_type": "stream",
     "text": [
      "Introduce el nombre de la categoría:  Les Fromages\n"
     ]
    },
    {
     "name": "stdout",
     "output_type": "stream",
     "text": [
      "Productos en la categoría 'Les Fromages':\n",
      "1. Cocotte de Rocamadour au mascarpone et noix (Stock: 10 unidades)\n",
      "2. Cocotte de Rocamadour au mascarpone et truffes (Stock: 8 unidades)\n"
     ]
    },
    {
     "name": "stdin",
     "output_type": "stream",
     "text": [
      "Introduce el número del producto que deseas actualizar:  f\n"
     ]
    }
   ],
   "source": [
    "inventario_restaurante = {\n",
    "    \"Les Entrées\": [\n",
    "        (\"Terrine de cèpes\", 28.00, 10),\n",
    "        (\"Coquilles Saint-Jacques poêlées\", 28.00, 8),\n",
    "        (\"Escalope de foie gras de canard poché\", 28.00, 6)\n",
    "    ],\n",
    "    \"Les Plats\": [\n",
    "        (\"Canon de lotte poché et rôti\", 35.00, 12),\n",
    "        (\"Tournedos de ris de veau\", 35.00, 10),\n",
    "        (\"Col vert\", 35.00, 5)\n",
    "    ],\n",
    "    \"Les Desserts\": [\n",
    "        (\"Tarte citron Kalamansi\", 22.00, 15),\n",
    "        (\"Sphère chocolat, crémeux caramel\", 22.00, 12),\n",
    "        (\"Figue pochée au vin rouge\", 22.00, 10),\n",
    "        (\"Biscuit camomille\", 22.00, 8)\n",
    "    ],\n",
    "    \"Spécialités Stéphane Chambon\": [\n",
    "        (\"Foie de canard Bonne Maman (pour 2)\", 75.00, 4),\n",
    "        (\"Pied de porc farci\", 54.00, 6),\n",
    "        (\"Queues de langoustines rôties\", 95.00, 3),\n",
    "        (\"Lièvre à la royale\", 72.00, 2)\n",
    "    ],\n",
    "    \"Les Fromages\": [\n",
    "        (\"Cocotte de Rocamadour au mascarpone et noix\", 14.00, 10),\n",
    "        (\"Cocotte de Rocamadour au mascarpone et truffes\", 20.00, 8)\n",
    "    ]\n",
    "}\n",
    "\n",
    "def actualizar_stock_producto(inventario):\n",
    "    categoria = input(\"Introduce el nombre de la categoría: \")\n",
    "    \n",
    "    if categoria in inventario:\n",
    "    \n",
    "        print(f\"Productos en la categoría '{categoria}':\")\n",
    "        for i, (producto, precio, stock) in enumerate(inventario[categoria]):\n",
    "            print(f\"{i+1}. {producto} (Stock: {stock} unidades)\")\n",
    "        \n",
    "        producto_seleccionado = int(input(\"Introduce el número del producto que deseas actualizar: \")) - 1\n",
    "        \n",
    "        if 0 <= producto_seleccionado < len(inventario[categoria]):\n",
    "            nuevo_stock = int(input(\"Introduce la nueva cantidad de stock: \"))\n",
    "            \n",
    "            nombre_producto, precio, _ = inventario[categoria][producto_seleccionado]\n",
    "            inventario[categoria][producto_seleccionado] = (nombre_producto, precio, nuevo_stock)\n",
    "            \n",
    "            print(f\"El stock de '{nombre_producto}' en la categoría '{categoria}' ha sido actualizado a {nuevo_stock} unidades.\")\n",
    "        else:\n",
    "            print(\"Número de producto no válido.\")\n",
    "    else:\n",
    "        print(\"Categoría no encontrada en el inventario.\")\n",
    "\n",
    "actualizar_stock_producto(inventario_restaurante)\n",
    "\n",
    "print(\"\\nInventario actualizado:\")\n",
    "for categoria, productos in inventario_restaurante.items():\n",
    "    print(f\"\\nCategoría: {categoria}\")\n",
    "    for producto, precio, stock in productos:\n",
    "        print(f\"  {producto}: {precio}€ (Stock: {stock} unidades)\")\n",
    "\n",
    "#introducimos categoría > luego el numero de la subcategoría y luego la cantidad."
   ]
  }
 ],
 "metadata": {
  "kernelspec": {
   "display_name": "Python 3 (ipykernel)",
   "language": "python",
   "name": "python3"
  },
  "language_info": {
   "codemirror_mode": {
    "name": "ipython",
    "version": 3
   },
   "file_extension": ".py",
   "mimetype": "text/x-python",
   "name": "python",
   "nbconvert_exporter": "python",
   "pygments_lexer": "ipython3",
   "version": "3.13.0"
  }
 },
 "nbformat": 4,
 "nbformat_minor": 5
}
