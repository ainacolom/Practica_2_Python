{
 "cells": [
  {
   "cell_type": "markdown",
   "id": "ad988c12-c928-456f-b0a0-b5140b123397",
   "metadata": {},
   "source": [
    "# Prova 2 : Python\n",
    "**Llinatges, Nom :** Colom Vallcaneras, Aina\n",
    "\n",
    "**Data:** 14 d'Octubre del 2024. "
   ]
  },
  {
   "cell_type": "markdown",
   "id": "12bab2a6-b0ad-4221-8cf8-cd5527e1b6e9",
   "metadata": {},
   "source": [
    "1.Definir una función llamada calcular impuesto que recibe el sueldo anual de una\n",
    "persona y su edad. La funci´on debe calcular la cantidad a pagar seg´un las siguientes\n",
    "reglas:"
   ]
  },
  {
   "cell_type": "markdown",
   "id": "3b4d77a1-0031-4f9b-8c74-e80c96ea1e76",
   "metadata": {},
   "source": [
    "a) Si una persona tiene menos de 18 a˜nos no tiene que pagar el impuesto.\n",
    "Si una persona tiene entre 18 y 30 a˜nos inclusive y un sueldo entre e20000 y\n",
    "e40000 debe pagar un 20 % del sueldo.\n",
    "c) Si una persona tiene mas de 30 a˜nos y un sueldo entre e20000 y e40000 debe\n",
    "pagar un 30 % del sueldo.\n",
    "d) Si una persona tiene un sueldo mayor de e40000 debe pagar un 50 % del sueldo.\n"
   ]
  },
  {
   "cell_type": "code",
   "execution_count": 108,
   "id": "f5575a76-2f7e-4bcf-acb0-21438422e866",
   "metadata": {},
   "outputs": [
    {
     "data": {
      "text/plain": [
       "7500.0"
      ]
     },
     "execution_count": 108,
     "metadata": {},
     "output_type": "execute_result"
    }
   ],
   "source": [
    "def calcular_impuesto(edad, sueldo):\n",
    "    if edad < 18:\n",
    "        return \"No tiene que pagar impuesto\"\n",
    "    elif 18 < edad < 30 and 20000 < sueldo < 40000:\n",
    "        solucion_young_poor = sueldo * 0.2\n",
    "        return solucion_young_poor\n",
    "    elif edad > 30 and 20000 < sueldo < 40000:\n",
    "        solucion_young_medium = sueldo * 0.3\n",
    "        return solucion_young_medium\n",
    "    else:\n",
    "        solucion_rich = sueldo * 0.5\n",
    "        return solucion_rich\n",
    "\n",
    "#probar:\n",
    "edad = 40\n",
    "sueldo = 25000\n",
    "\n",
    "calcular_impuesto (edad, sueldo)"
   ]
  },
  {
   "cell_type": "markdown",
   "id": "d0b4ed6e-9562-40ce-8f8c-2b3672a76538",
   "metadata": {},
   "source": [
    "Escribre una función llamada max 3 que recibe 3 números enteros y devuelve el\n",
    "mayor de 3."
   ]
  },
  {
   "cell_type": "code",
   "execution_count": 114,
   "id": "98f65727-9337-4e10-8701-34fab811b73c",
   "metadata": {},
   "outputs": [
    {
     "name": "stdout",
     "output_type": "stream",
     "text": [
      "el numero más grande es 4\n"
     ]
    }
   ],
   "source": [
    "def max_3 (a, b, c):\n",
    "    return max (a, b, c)\n",
    "\n",
    "a = 2\n",
    "b = 3\n",
    "c = 4\n",
    "\n",
    "solución = max (a, b, c)\n",
    "print (f\"el numero más grande es {solución}\")"
   ]
  },
  {
   "cell_type": "markdown",
   "id": "e171ad93-424d-4750-beed-850499d949af",
   "metadata": {},
   "source": [
    "3. Realizar un código que crea una lista llamada resultado que contiene todos loselementos de la lista random numbers = [19, 137, 15, 90, 134, 51, 76, 105,\n",
    "36, 29, 7] que son múltiplos de 3 y de 5. Finalmente la debe mostrar por pantalla."
   ]
  },
  {
   "cell_type": "code",
   "execution_count": 103,
   "id": "2a1660c8-8273-44d5-b472-de2e4bcf2674",
   "metadata": {},
   "outputs": [
    {
     "data": {
      "text/plain": [
       "[15, 90, 105]"
      ]
     },
     "execution_count": 103,
     "metadata": {},
     "output_type": "execute_result"
    }
   ],
   "source": [
    "random_numbers = [19, 137, 15, 90, 134, 51, 76, 105, 36, 29, 7]\n",
    "\n",
    "solucion = [num for num in random_numbers if num % 3 == 0 and num % 5 == 0]\n",
    "\n",
    "solucion\n"
   ]
  },
  {
   "cell_type": "markdown",
   "id": "9954d0fe-f4f6-4bba-b745-888795db8833",
   "metadata": {},
   "source": [
    "4. Da el valor de en el que la secuencia 2 · 3 n − 4 · 2,5n toma su valor mınimo. puede\n",
    "tomar los valores de 0 a 100."
   ]
  },
  {
   "cell_type": "code",
   "execution_count": 117,
   "id": "43b7196a-2b07-44b8-8ee4-b4cef6e16cc3",
   "metadata": {},
   "outputs": [
    {
     "data": {
      "text/plain": [
       "3"
      ]
     },
     "execution_count": 117,
     "metadata": {},
     "output_type": "execute_result"
    }
   ],
   "source": [
    "def sequence(n):\n",
    "    return 2 * (3**n) - 4 * (2.5**n)\n",
    "\n",
    "min_valor = sequence(0) \n",
    "for n in range(0, 101): #pos que acaba amb 101 perque es fins a 1000\n",
    "    valor = sequence(n)\n",
    "    if valor < min_valor:\n",
    "        min_n = n\n",
    "min_n\n",
    "\n"
   ]
  }
 ],
 "metadata": {
  "kernelspec": {
   "display_name": "Python 3 (ipykernel)",
   "language": "python",
   "name": "python3"
  },
  "language_info": {
   "codemirror_mode": {
    "name": "ipython",
    "version": 3
   },
   "file_extension": ".py",
   "mimetype": "text/x-python",
   "name": "python",
   "nbconvert_exporter": "python",
   "pygments_lexer": "ipython3",
   "version": "3.13.0"
  }
 },
 "nbformat": 4,
 "nbformat_minor": 5
}
